{
 "cells": [
  {
   "cell_type": "markdown",
   "metadata": {},
   "source": [
    "# U-NET\n",
    "\n",
    "Run in the docker image found in https://github.com/waspinator/deep-learning-explorer\n"
   ]
  },
  {
   "cell_type": "code",
   "execution_count": 1,
   "metadata": {},
   "outputs": [],
   "source": [
    "%matplotlib inline\n",
    "%config IPCompleter.greedy=True\n",
    "%reload_ext autoreload\n",
    "%autoreload 2"
   ]
  },
  {
   "cell_type": "code",
   "execution_count": 2,
   "metadata": {},
   "outputs": [
    {
     "name": "stderr",
     "output_type": "stream",
     "text": [
      "Using TensorFlow backend.\n"
     ]
    }
   ],
   "source": [
    "import os\n",
    "os.environ[\"CUDA_DEVICE_ORDER\"]=\"PCI_BUS_ID\"\n",
    "os.environ[\"CUDA_VISIBLE_DEVICES\"]=\"1\" \n",
    "\n",
    "import sys\n",
    "import random\n",
    "import math\n",
    "import re\n",
    "import time\n",
    "import numpy as np\n",
    "from PIL import Image\n",
    "import matplotlib\n",
    "import matplotlib.pyplot as plt\n",
    "\n",
    "sys.path.insert(0, '../libraries')\n",
    "import semantic.weights\n",
    "import semantic.utils\n",
    "import semantic.config\n",
    "import semantic.coco\n",
    "import semantic.unet\n",
    "import semantic.generator\n",
    "import semantic.visualize\n",
    "\n",
    "\n",
    "HOME_DIR = '/home/keras'\n",
    "DATA_DIR = os.path.join(HOME_DIR, \"data/shapes\")\n",
    "WEIGHTS_DIR = os.path.join(HOME_DIR, \"data/weights\")\n",
    "MODEL_DIR = os.path.join(DATA_DIR, \"logs\")"
   ]
  },
  {
   "cell_type": "markdown",
   "metadata": {},
   "source": [
    "# Dataset\n",
    "\n",
    "Your data should be in the [COCO style format](http://cocodataset.org/#download).\n",
    "\n",
    "Organize the dataset using the following structure:\n",
    "\n",
    "```\n",
    "DATA_DIR\n",
    "│\n",
    "└───annotations\n",
    "│   │   instances_<subset><year>.json\n",
    "│   \n",
    "└───<subset><year>\n",
    "    │   image021.jpeg\n",
    "    │   image022.jpeg\n",
    "```"
   ]
  },
  {
   "cell_type": "code",
   "execution_count": 4,
   "metadata": {
    "scrolled": false
   },
   "outputs": [
    {
     "name": "stdout",
     "output_type": "stream",
     "text": [
      "loading annotations into memory...\n",
      "Done (t=0.10s)\n",
      "creating index...\n",
      "index created!\n",
      "loading annotations into memory...\n",
      "Done (t=0.00s)\n",
      "creating index...\n",
      "index created!\n",
      "loading annotations into memory...\n",
      "Done (t=0.01s)\n",
      "creating index...\n",
      "index created!\n"
     ]
    }
   ],
   "source": [
    "dataset_train = semantic.coco.CocoDataset()\n",
    "dataset_train.load_coco(DATA_DIR, subset=\"shapes_train\", year=\"2018\")\n",
    "dataset_train.prepare()\n",
    "\n",
    "dataset_validate = semantic.coco.CocoDataset()\n",
    "dataset_validate.load_coco(DATA_DIR, subset=\"shapes_validate\", year=\"2018\")\n",
    "dataset_validate.prepare()\n",
    "\n",
    "dataset_test = semantic.coco.CocoDataset()\n",
    "dataset_test.load_coco(DATA_DIR, subset=\"shapes_test\", year=\"2018\")\n",
    "dataset_test.prepare()"
   ]
  },
  {
   "cell_type": "code",
   "execution_count": 5,
   "metadata": {},
   "outputs": [
    {
     "data": {
      "text/plain": [
       "[{'source': '', 'id': 0, 'name': 'BG'},\n",
       " {'source': 'coco', 'id': 1, 'name': 'square'},\n",
       " {'source': 'coco', 'id': 2, 'name': 'circle'},\n",
       " {'source': 'coco', 'id': 3, 'name': 'triangle'}]"
      ]
     },
     "execution_count": 5,
     "metadata": {},
     "output_type": "execute_result"
    }
   ],
   "source": [
    "dataset_train.class_info"
   ]
  },
  {
   "cell_type": "code",
   "execution_count": 6,
   "metadata": {
    "scrolled": true
   },
   "outputs": [
    {
     "data": {
      "text/plain": [
       "{0: 0.6245757457188198,\n",
       " 1: 0.16082110268729075,\n",
       " 2: 0.1188858904157366,\n",
       " 3: 0.09571726117815291}"
      ]
     },
     "execution_count": 6,
     "metadata": {},
     "output_type": "execute_result"
    }
   ],
   "source": [
    "dataset_train.class_weight "
   ]
  },
  {
   "cell_type": "markdown",
   "metadata": {},
   "source": [
    "# Configuration"
   ]
  },
  {
   "cell_type": "code",
   "execution_count": 7,
   "metadata": {},
   "outputs": [
    {
     "name": "stdout",
     "output_type": "stream",
     "text": [
      "\n",
      "Configurations:\n",
      "BATCH_SIZE                     1\n",
      "CLASSES                        4\n",
      "IMAGE_CHANNELS                 3\n",
      "IMAGE_HEIGHT                   512\n",
      "IMAGE_SHAPE                    (512, 512, 3)\n",
      "IMAGE_WIDTH                    512\n",
      "NAME                           unet\n",
      "STEPS_PER_EPOCH                100\n",
      "TRAIN_DATASET_SIZE             700\n",
      "VALIDATION_STEPS               10\n",
      "\n",
      "\n"
     ]
    }
   ],
   "source": [
    "class UnetConfig(semantic.unet.Config):\n",
    "\n",
    "    NAME = \"unet\"\n",
    "    \n",
    "    TRAIN_DATASET_SIZE = len(dataset_train.image_ids)\n",
    "    BATCH_SIZE = 1\n",
    "    VALIDATION_STEPS = 10\n",
    "    STEPS_PER_EPOCH = 100\n",
    "    \n",
    "    CLASSES = 1 + 3 # background + three shapes\n",
    "    IMAGE_HEIGHT = 512\n",
    "    IMAGE_CHANNELS = 3\n",
    "    \n",
    "    \n",
    "config = UnetConfig()\n",
    "config.display()"
   ]
  },
  {
   "cell_type": "markdown",
   "metadata": {},
   "source": [
    "### Visualize original data"
   ]
  },
  {
   "cell_type": "code",
   "execution_count": 9,
   "metadata": {},
   "outputs": [],
   "source": [
    "image_ids = np.random.choice(dataset_train.image_ids, 4)\n",
    "\n",
    "for image_id in image_ids:\n",
    "    image = dataset_train.load_image(image_id)\n",
    "    mask, class_ids = dataset_train.load_mask(image_id)\n",
    "    #semantic.visualize.display_top_masks(image, mask, class_ids, dataset_train.class_names)\n",
    "    #semantic.visualize.display_class_mask(mask, class_ids, dataset_train.class_names)"
   ]
  },
  {
   "cell_type": "code",
   "execution_count": 10,
   "metadata": {},
   "outputs": [
    {
     "name": "stdout",
     "output_type": "stream",
     "text": [
      "(512, 512, 0)\n",
      "(512, 512, 2)\n",
      "(512, 512, 1)\n",
      "(512, 512, 2)\n"
     ]
    }
   ],
   "source": [
    "image = dataset_train.load_image(1)\n",
    "mask, class_ids = dataset_train.load_mask(1)\n",
    "semantic.visualize.display_classes(mask, class_ids, dataset_train.class_names)"
   ]
  },
  {
   "cell_type": "markdown",
   "metadata": {},
   "source": [
    "### Visualize data passed in to the model\n",
    "\n",
    "Images are standardized and augmented before being passed in for training "
   ]
  },
  {
   "cell_type": "code",
   "execution_count": 12,
   "metadata": {},
   "outputs": [
    {
     "name": "stderr",
     "output_type": "stream",
     "text": [
      "Clipping input data to the valid range for imshow with RGB data ([0..1] for floats or [0..255] for integers).\n"
     ]
    },
    {
     "data": {
      "image/png": "[encoded data removed]",
      "text/plain": [
       "<Figure size 1008x504 with 4 Axes>"
      ]
     },
     "metadata": {},
     "output_type": "display_data"
    }
   ],
   "source": [
    "data_generator = semantic.generator.CocoGenerator(\n",
    "    pixel_mean=(123.68, 116.779, 103.939),\n",
    "    pixelwise_center=True\n",
    ")\n",
    "\n",
    "generator_train = data_generator.flow_from_dataset(\n",
    "    dataset_train,\n",
    "    target_size=(config.IMAGE_HEIGHT, config.IMAGE_WIDTH),\n",
    "    batch_size=config.BATCH_SIZE,\n",
    "    classes=config.CLASSES\n",
    ")\n",
    "\n",
    "semantic.visualize.display_generator_output(generator_train, [1])"
   ]
  },
  {
   "cell_type": "markdown",
   "metadata": {},
   "source": [
    "# Load Model"
   ]
  },
  {
   "cell_type": "code",
   "execution_count": 13,
   "metadata": {},
   "outputs": [],
   "source": [
    "model = semantic.unet.Unet(config=config, model_dir=MODEL_DIR)"
   ]
  },
  {
   "cell_type": "code",
   "execution_count": 14,
   "metadata": {},
   "outputs": [
    {
     "name": "stdout",
     "output_type": "stream",
     "text": [
      "__________________________________________________________________________________________________\n",
      "Layer (type)                    Output Shape         Param #     Connected to                     \n",
      "==================================================================================================\n",
      "input_1 (InputLayer)            (None, 512, 512, 3)  0                                            \n",
      "__________________________________________________________________________________________________\n",
      "block1_contracting_conv_a (Conv (None, 512, 512, 64) 1792        input_1[0][0]                    \n",
      "__________________________________________________________________________________________________\n",
      "block1_contracting_conv_b (Conv (None, 512, 512, 64) 36928       block1_contracting_conv_a[0][0]  \n",
      "__________________________________________________________________________________________________\n",
      "block1_contracting_pool (MaxPoo (None, 256, 256, 64) 0           block1_contracting_conv_b[0][0]  \n",
      "__________________________________________________________________________________________________\n",
      "block2_contracting_conv_a (Conv (None, 256, 256, 128 73856       block1_contracting_pool[0][0]    \n",
      "__________________________________________________________________________________________________\n",
      "block2_contracting_conv_b (Conv (None, 256, 256, 128 147584      block2_contracting_conv_a[0][0]  \n",
      "__________________________________________________________________________________________________\n",
      "block2_contracting_pool (MaxPoo (None, 128, 128, 128 0           block2_contracting_conv_b[0][0]  \n",
      "__________________________________________________________________________________________________\n",
      "block3_contracting_conv_a (Conv (None, 128, 128, 256 295168      block2_contracting_pool[0][0]    \n",
      "__________________________________________________________________________________________________\n",
      "block3_contracting_conv_b (Conv (None, 128, 128, 256 590080      block3_contracting_conv_a[0][0]  \n",
      "__________________________________________________________________________________________________\n",
      "block3_contracting_pool (MaxPoo (None, 64, 64, 256)  0           block3_contracting_conv_b[0][0]  \n",
      "__________________________________________________________________________________________________\n",
      "block4_contracting_conv_a (Conv (None, 64, 64, 512)  1180160     block3_contracting_pool[0][0]    \n",
      "__________________________________________________________________________________________________\n",
      "block4_contracting_conv_b (Conv (None, 64, 64, 512)  2359808     block4_contracting_conv_a[0][0]  \n",
      "__________________________________________________________________________________________________\n",
      "block4_contracting_pool (MaxPoo (None, 32, 32, 512)  0           block4_contracting_conv_b[0][0]  \n",
      "__________________________________________________________________________________________________\n",
      "block5_contracting_conv_a (Conv (None, 32, 32, 1024) 4719616     block4_contracting_pool[0][0]    \n",
      "__________________________________________________________________________________________________\n",
      "block5_contracting_conv_b (Conv (None, 32, 32, 1024) 9438208     block5_contracting_conv_a[0][0]  \n",
      "__________________________________________________________________________________________________\n",
      "dropout_1 (Dropout)             (None, 32, 32, 1024) 0           block5_contracting_conv_b[0][0]  \n",
      "__________________________________________________________________________________________________\n",
      "up_sampling2d_1 (UpSampling2D)  (None, 64, 64, 1024) 0           dropout_1[0][0]                  \n",
      "__________________________________________________________________________________________________\n",
      "cropping2d_1 (Cropping2D)       (None, 64, 64, 512)  0           block4_contracting_conv_b[0][0]  \n",
      "__________________________________________________________________________________________________\n",
      "block6_expanding_conv_up (Conv2 (None, 64, 64, 512)  2097664     up_sampling2d_1[0][0]            \n",
      "__________________________________________________________________________________________________\n",
      "concatenate_1 (Concatenate)     (None, 64, 64, 1024) 0           cropping2d_1[0][0]               \n",
      "                                                                 block6_expanding_conv_up[0][0]   \n",
      "__________________________________________________________________________________________________\n",
      "block6_expanding_conv_a (Conv2D (None, 64, 64, 512)  4719104     concatenate_1[0][0]              \n",
      "__________________________________________________________________________________________________\n",
      "block6_expanding_conv_b (Conv2D (None, 64, 64, 512)  2359808     block6_expanding_conv_a[0][0]    \n",
      "__________________________________________________________________________________________________\n",
      "up_sampling2d_2 (UpSampling2D)  (None, 128, 128, 512 0           block6_expanding_conv_b[0][0]    \n",
      "__________________________________________________________________________________________________\n",
      "cropping2d_2 (Cropping2D)       (None, 128, 128, 256 0           block3_contracting_conv_b[0][0]  \n",
      "__________________________________________________________________________________________________\n",
      "block7_expanding_conv_up (Conv2 (None, 128, 128, 256 524544      up_sampling2d_2[0][0]            \n",
      "__________________________________________________________________________________________________\n",
      "concatenate_2 (Concatenate)     (None, 128, 128, 512 0           cropping2d_2[0][0]               \n",
      "                                                                 block7_expanding_conv_up[0][0]   \n",
      "__________________________________________________________________________________________________\n",
      "block7_expanding_conv_a (Conv2D (None, 128, 128, 256 1179904     concatenate_2[0][0]              \n",
      "__________________________________________________________________________________________________\n",
      "block7_expanding_conv_b (Conv2D (None, 128, 128, 256 590080      block7_expanding_conv_a[0][0]    \n",
      "__________________________________________________________________________________________________\n",
      "up_sampling2d_3 (UpSampling2D)  (None, 256, 256, 256 0           block7_expanding_conv_b[0][0]    \n",
      "__________________________________________________________________________________________________\n",
      "cropping2d_3 (Cropping2D)       (None, 256, 256, 128 0           block2_contracting_conv_b[0][0]  \n",
      "__________________________________________________________________________________________________\n",
      "block8_expanding_conv_up (Conv2 (None, 256, 256, 128 131200      up_sampling2d_3[0][0]            \n",
      "__________________________________________________________________________________________________\n",
      "concatenate_3 (Concatenate)     (None, 256, 256, 256 0           cropping2d_3[0][0]               \n",
      "                                                                 block8_expanding_conv_up[0][0]   \n",
      "__________________________________________________________________________________________________\n",
      "block8_expanding_conv_a (Conv2D (None, 256, 256, 128 295040      concatenate_3[0][0]              \n",
      "__________________________________________________________________________________________________\n",
      "block8_expanding_conv_b (Conv2D (None, 256, 256, 128 147584      block8_expanding_conv_a[0][0]    \n",
      "__________________________________________________________________________________________________\n",
      "up_sampling2d_4 (UpSampling2D)  (None, 512, 512, 128 0           block8_expanding_conv_b[0][0]    \n",
      "__________________________________________________________________________________________________\n",
      "cropping2d_4 (Cropping2D)       (None, 512, 512, 64) 0           block1_contracting_conv_b[0][0]  \n",
      "__________________________________________________________________________________________________\n",
      "block9_expanding_conv_up (Conv2 (None, 512, 512, 64) 32832       up_sampling2d_4[0][0]            \n",
      "__________________________________________________________________________________________________\n",
      "concatenate_4 (Concatenate)     (None, 512, 512, 128 0           cropping2d_4[0][0]               \n",
      "                                                                 block9_expanding_conv_up[0][0]   \n",
      "__________________________________________________________________________________________________\n",
      "block9_expanding_conv_a (Conv2D (None, 512, 512, 64) 73792       concatenate_4[0][0]              \n",
      "__________________________________________________________________________________________________\n",
      "block9_expanding_conv_b (Conv2D (None, 512, 512, 64) 36928       block9_expanding_conv_a[0][0]    \n",
      "__________________________________________________________________________________________________\n",
      "class_output (Conv2D)           (None, 512, 512, 4)  260         block9_expanding_conv_b[0][0]    \n",
      "==================================================================================================\n",
      "Total params: 31,031,940\n",
      "Trainable params: 31,031,940\n",
      "Non-trainable params: 0\n",
      "__________________________________________________________________________________________________\n"
     ]
    }
   ],
   "source": [
    "model.keras_model.summary()"
   ]
  },
  {
   "cell_type": "markdown",
   "metadata": {},
   "source": [
    "## Load weights"
   ]
  },
  {
   "cell_type": "code",
   "execution_count": 12,
   "metadata": {},
   "outputs": [],
   "source": [
    "weights_path = semantic.utils.find_last(config, MODEL_DIR)[1]\n",
    "model.keras_model.load_weights(weights_path, by_name=True)"
   ]
  },
  {
   "cell_type": "markdown",
   "metadata": {},
   "source": [
    "## Train head\n",
    "\n",
    "Train using only the head"
   ]
  },
  {
   "cell_type": "code",
   "execution_count": 15,
   "metadata": {
    "scrolled": false
   },
   "outputs": [
    {
     "name": "stdout",
     "output_type": "stream",
     "text": [
      "block1_contracting_conv_a   (Conv2D)\n",
      "block1_contracting_conv_b   (Conv2D)\n",
      "block2_contracting_conv_a   (Conv2D)\n",
      "block2_contracting_conv_b   (Conv2D)\n",
      "block3_contracting_conv_a   (Conv2D)\n",
      "block3_contracting_conv_b   (Conv2D)\n",
      "block4_contracting_conv_a   (Conv2D)\n",
      "block4_contracting_conv_b   (Conv2D)\n",
      "block5_contracting_conv_a   (Conv2D)\n",
      "block5_contracting_conv_b   (Conv2D)\n",
      "block6_expanding_conv_up   (Conv2D)\n",
      "block6_expanding_conv_a   (Conv2D)\n",
      "block6_expanding_conv_b   (Conv2D)\n",
      "block7_expanding_conv_up   (Conv2D)\n",
      "block7_expanding_conv_a   (Conv2D)\n",
      "block7_expanding_conv_b   (Conv2D)\n",
      "block8_expanding_conv_up   (Conv2D)\n",
      "block8_expanding_conv_a   (Conv2D)\n",
      "block8_expanding_conv_b   (Conv2D)\n",
      "block9_expanding_conv_up   (Conv2D)\n",
      "block9_expanding_conv_a   (Conv2D)\n",
      "block9_expanding_conv_b   (Conv2D)\n",
      "class_output           (Conv2D)\n",
      "Epoch 1/1\n",
      "100/100 [==============================] - 33s 328ms/step - loss: 0.7524 - categorical_accuracy: 0.6137 - val_loss: 0.6169 - val_categorical_accuracy: 0.6854\n"
     ]
    }
   ],
   "source": [
    "model.train(dataset_train, dataset_validate,\n",
    "            learning_rate=0.01,\n",
    "            epochs=1,\n",
    "            layers='all')"
   ]
  },
  {
   "cell_type": "markdown",
   "metadata": {},
   "source": [
    "## Fine tune\n",
    "\n",
    "Train more slowly than before but using all the layers. Starts from the previous epoch. For example if you set the train part to have 4 epochs and you want to fine tune for 2, set the epochs below to 6"
   ]
  },
  {
   "cell_type": "code",
   "execution_count": null,
   "metadata": {
    "scrolled": false
   },
   "outputs": [],
   "source": [
    "model.train(dataset_train, dataset_validate,\n",
    "            learning_rate=0.001,\n",
    "            epochs=6,\n",
    "            layers='all')"
   ]
  },
  {
   "cell_type": "markdown",
   "metadata": {},
   "source": [
    "# Predict\n",
    "\n",
    "Predict on a sample image"
   ]
  },
  {
   "cell_type": "code",
   "execution_count": 13,
   "metadata": {},
   "outputs": [
    {
     "data": {
      "text/plain": [
       "<matplotlib.image.AxesImage at 0x7f803c794588>"
      ]
     },
     "execution_count": 13,
     "metadata": {},
     "output_type": "execute_result"
    },
    {
     "data": {
      "image/png": "[encoded data removed]",
      "text/plain": [
       "<Figure size 576x288 with 1 Axes>"
      ]
     },
     "metadata": {},
     "output_type": "display_data"
    }
   ],
   "source": [
    "test_image_id = np.random.choice(dataset_test.image_ids, 1)[0]\n",
    "image = Image.open(dataset_test.image_reference(test_image_id))\n",
    "plt.figure(figsize=(8,4))\n",
    "plt.axis('off')\n",
    "plt.imshow(image)"
   ]
  },
  {
   "cell_type": "code",
   "execution_count": 14,
   "metadata": {},
   "outputs": [],
   "source": [
    "prediction = model.predict(image)"
   ]
  },
  {
   "cell_type": "code",
   "execution_count": 15,
   "metadata": {},
   "outputs": [
    {
     "ename": "IndexError",
     "evalue": "list index out of range",
     "output_type": "error",
     "traceback": [
      "\u001b[0;31m---------------------------------------------------------------------------\u001b[0m",
      "\u001b[0;31mIndexError\u001b[0m                                Traceback (most recent call last)",
      "\u001b[0;32m<ipython-input-15-58a91877ec2e>\u001b[0m in \u001b[0;36m<module>\u001b[0;34m()\u001b[0m\n\u001b[1;32m      3\u001b[0m \u001b[0mvalues\u001b[0m \u001b[0;34m=\u001b[0m \u001b[0mnp\u001b[0m\u001b[0;34m.\u001b[0m\u001b[0munique\u001b[0m\u001b[0;34m(\u001b[0m\u001b[0mprediction\u001b[0m\u001b[0;34m.\u001b[0m\u001b[0mravel\u001b[0m\u001b[0;34m(\u001b[0m\u001b[0;34m)\u001b[0m\u001b[0;34m)\u001b[0m\u001b[0;34m\u001b[0m\u001b[0m\n\u001b[1;32m      4\u001b[0m \u001b[0mcolors\u001b[0m \u001b[0;34m=\u001b[0m \u001b[0;34m[\u001b[0m \u001b[0mim\u001b[0m\u001b[0;34m.\u001b[0m\u001b[0mcmap\u001b[0m\u001b[0;34m(\u001b[0m\u001b[0mim\u001b[0m\u001b[0;34m.\u001b[0m\u001b[0mnorm\u001b[0m\u001b[0;34m(\u001b[0m\u001b[0mvalue\u001b[0m\u001b[0;34m)\u001b[0m\u001b[0;34m)\u001b[0m \u001b[0;32mfor\u001b[0m \u001b[0mvalue\u001b[0m \u001b[0;32min\u001b[0m \u001b[0mvalues\u001b[0m\u001b[0;34m]\u001b[0m\u001b[0;34m\u001b[0m\u001b[0m\n\u001b[0;32m----> 5\u001b[0;31m \u001b[0mpatches\u001b[0m \u001b[0;34m=\u001b[0m \u001b[0;34m[\u001b[0m \u001b[0mmatplotlib\u001b[0m\u001b[0;34m.\u001b[0m\u001b[0mpatches\u001b[0m\u001b[0;34m.\u001b[0m\u001b[0mPatch\u001b[0m\u001b[0;34m(\u001b[0m\u001b[0mcolor\u001b[0m\u001b[0;34m=\u001b[0m\u001b[0mcolors\u001b[0m\u001b[0;34m[\u001b[0m\u001b[0mi\u001b[0m\u001b[0;34m]\u001b[0m\u001b[0;34m,\u001b[0m \u001b[0mlabel\u001b[0m\u001b[0;34m=\u001b[0m\u001b[0;34m\"{}\"\u001b[0m\u001b[0;34m.\u001b[0m\u001b[0mformat\u001b[0m\u001b[0;34m(\u001b[0m\u001b[0mdataset_test\u001b[0m\u001b[0;34m.\u001b[0m\u001b[0mclass_info\u001b[0m\u001b[0;34m[\u001b[0m\u001b[0mi\u001b[0m\u001b[0;34m]\u001b[0m\u001b[0;34m[\u001b[0m\u001b[0;34m'name'\u001b[0m\u001b[0;34m]\u001b[0m\u001b[0;34m)\u001b[0m\u001b[0;34m)\u001b[0m \u001b[0;32mfor\u001b[0m \u001b[0mi\u001b[0m \u001b[0;32min\u001b[0m \u001b[0mvalues\u001b[0m \u001b[0;34m]\u001b[0m\u001b[0;34m\u001b[0m\u001b[0m\n\u001b[0m\u001b[1;32m      6\u001b[0m \u001b[0mplt\u001b[0m\u001b[0;34m.\u001b[0m\u001b[0mlegend\u001b[0m\u001b[0;34m(\u001b[0m\u001b[0mhandles\u001b[0m\u001b[0;34m=\u001b[0m\u001b[0mpatches\u001b[0m\u001b[0;34m,\u001b[0m \u001b[0mbbox_to_anchor\u001b[0m\u001b[0;34m=\u001b[0m\u001b[0;34m(\u001b[0m\u001b[0;36m1.05\u001b[0m\u001b[0;34m,\u001b[0m \u001b[0;36m1\u001b[0m\u001b[0;34m)\u001b[0m\u001b[0;34m,\u001b[0m \u001b[0mloc\u001b[0m\u001b[0;34m=\u001b[0m\u001b[0;36m2\u001b[0m\u001b[0;34m,\u001b[0m \u001b[0mborderaxespad\u001b[0m\u001b[0;34m=\u001b[0m\u001b[0;36m0.\u001b[0m\u001b[0;34m,\u001b[0m \u001b[0mfontsize\u001b[0m\u001b[0;34m=\u001b[0m\u001b[0;34m'x-large'\u001b[0m\u001b[0;34m)\u001b[0m\u001b[0;34m\u001b[0m\u001b[0m\n\u001b[1;32m      7\u001b[0m \u001b[0mplt\u001b[0m\u001b[0;34m.\u001b[0m\u001b[0maxis\u001b[0m\u001b[0;34m(\u001b[0m\u001b[0;34m'off'\u001b[0m\u001b[0;34m)\u001b[0m\u001b[0;34m\u001b[0m\u001b[0m\n",
      "\u001b[0;32m<ipython-input-15-58a91877ec2e>\u001b[0m in \u001b[0;36m<listcomp>\u001b[0;34m(.0)\u001b[0m\n\u001b[1;32m      3\u001b[0m \u001b[0mvalues\u001b[0m \u001b[0;34m=\u001b[0m \u001b[0mnp\u001b[0m\u001b[0;34m.\u001b[0m\u001b[0munique\u001b[0m\u001b[0;34m(\u001b[0m\u001b[0mprediction\u001b[0m\u001b[0;34m.\u001b[0m\u001b[0mravel\u001b[0m\u001b[0;34m(\u001b[0m\u001b[0;34m)\u001b[0m\u001b[0;34m)\u001b[0m\u001b[0;34m\u001b[0m\u001b[0m\n\u001b[1;32m      4\u001b[0m \u001b[0mcolors\u001b[0m \u001b[0;34m=\u001b[0m \u001b[0;34m[\u001b[0m \u001b[0mim\u001b[0m\u001b[0;34m.\u001b[0m\u001b[0mcmap\u001b[0m\u001b[0;34m(\u001b[0m\u001b[0mim\u001b[0m\u001b[0;34m.\u001b[0m\u001b[0mnorm\u001b[0m\u001b[0;34m(\u001b[0m\u001b[0mvalue\u001b[0m\u001b[0;34m)\u001b[0m\u001b[0;34m)\u001b[0m \u001b[0;32mfor\u001b[0m \u001b[0mvalue\u001b[0m \u001b[0;32min\u001b[0m \u001b[0mvalues\u001b[0m\u001b[0;34m]\u001b[0m\u001b[0;34m\u001b[0m\u001b[0m\n\u001b[0;32m----> 5\u001b[0;31m \u001b[0mpatches\u001b[0m \u001b[0;34m=\u001b[0m \u001b[0;34m[\u001b[0m \u001b[0mmatplotlib\u001b[0m\u001b[0;34m.\u001b[0m\u001b[0mpatches\u001b[0m\u001b[0;34m.\u001b[0m\u001b[0mPatch\u001b[0m\u001b[0;34m(\u001b[0m\u001b[0mcolor\u001b[0m\u001b[0;34m=\u001b[0m\u001b[0mcolors\u001b[0m\u001b[0;34m[\u001b[0m\u001b[0mi\u001b[0m\u001b[0;34m]\u001b[0m\u001b[0;34m,\u001b[0m \u001b[0mlabel\u001b[0m\u001b[0;34m=\u001b[0m\u001b[0;34m\"{}\"\u001b[0m\u001b[0;34m.\u001b[0m\u001b[0mformat\u001b[0m\u001b[0;34m(\u001b[0m\u001b[0mdataset_test\u001b[0m\u001b[0;34m.\u001b[0m\u001b[0mclass_info\u001b[0m\u001b[0;34m[\u001b[0m\u001b[0mi\u001b[0m\u001b[0;34m]\u001b[0m\u001b[0;34m[\u001b[0m\u001b[0;34m'name'\u001b[0m\u001b[0;34m]\u001b[0m\u001b[0;34m)\u001b[0m\u001b[0;34m)\u001b[0m \u001b[0;32mfor\u001b[0m \u001b[0mi\u001b[0m \u001b[0;32min\u001b[0m \u001b[0mvalues\u001b[0m \u001b[0;34m]\u001b[0m\u001b[0;34m\u001b[0m\u001b[0m\n\u001b[0m\u001b[1;32m      6\u001b[0m \u001b[0mplt\u001b[0m\u001b[0;34m.\u001b[0m\u001b[0mlegend\u001b[0m\u001b[0;34m(\u001b[0m\u001b[0mhandles\u001b[0m\u001b[0;34m=\u001b[0m\u001b[0mpatches\u001b[0m\u001b[0;34m,\u001b[0m \u001b[0mbbox_to_anchor\u001b[0m\u001b[0;34m=\u001b[0m\u001b[0;34m(\u001b[0m\u001b[0;36m1.05\u001b[0m\u001b[0;34m,\u001b[0m \u001b[0;36m1\u001b[0m\u001b[0;34m)\u001b[0m\u001b[0;34m,\u001b[0m \u001b[0mloc\u001b[0m\u001b[0;34m=\u001b[0m\u001b[0;36m2\u001b[0m\u001b[0;34m,\u001b[0m \u001b[0mborderaxespad\u001b[0m\u001b[0;34m=\u001b[0m\u001b[0;36m0.\u001b[0m\u001b[0;34m,\u001b[0m \u001b[0mfontsize\u001b[0m\u001b[0;34m=\u001b[0m\u001b[0;34m'x-large'\u001b[0m\u001b[0;34m)\u001b[0m\u001b[0;34m\u001b[0m\u001b[0m\n\u001b[1;32m      7\u001b[0m \u001b[0mplt\u001b[0m\u001b[0;34m.\u001b[0m\u001b[0maxis\u001b[0m\u001b[0;34m(\u001b[0m\u001b[0;34m'off'\u001b[0m\u001b[0;34m)\u001b[0m\u001b[0;34m\u001b[0m\u001b[0m\n",
      "\u001b[0;31mIndexError\u001b[0m: list index out of range"
     ]
    },
    {
     "data": {
      "image/png": "[encoded data removed]",
      "text/plain": [
       "<Figure size 576x288 with 1 Axes>"
      ]
     },
     "metadata": {},
     "output_type": "display_data"
    }
   ],
   "source": [
    "plt.figure(figsize=(8,4))\n",
    "im = plt.imshow(prediction, interpolation='none')\n",
    "values = np.unique(prediction.ravel())\n",
    "colors = [ im.cmap(im.norm(value)) for value in values]\n",
    "patches = [ matplotlib.patches.Patch(color=colors[i], label=\"{}\".format(dataset_test.class_info[i]['name'])) for i in values ]\n",
    "plt.legend(handles=patches, bbox_to_anchor=(1.05, 1), loc=2, borderaxespad=0., fontsize='x-large')\n",
    "plt.axis('off')\n",
    "plt.show()"
   ]
  },
  {
   "cell_type": "markdown",
   "metadata": {},
   "source": [
    "# Evaluate\n",
    "\n",
    "Get the Mean IoU for each class in the dataset"
   ]
  },
  {
   "cell_type": "code",
   "execution_count": null,
   "metadata": {},
   "outputs": [],
   "source": [
    "semantic.evaluate.evaluate(model, dataset_test)"
   ]
  },
  {
   "cell_type": "code",
   "execution_count": null,
   "metadata": {},
   "outputs": [],
   "source": [
    "semantic.utils.result_to_coco(prediction, dataset_test.class_info, config.IMAGE_MAX_DIM, config.IMAGE_MAX_DIM)"
   ]
  }
 ],
 "metadata": {
  "kernelspec": {
   "display_name": "Python 3",
   "language": "python",
   "name": "python3"
  },
  "language_info": {
   "codemirror_mode": {
    "name": "ipython",
    "version": 3
   },
   "file_extension": ".py",
   "mimetype": "text/x-python",
   "name": "python",
   "nbconvert_exporter": "python",
   "pygments_lexer": "ipython3",
   "version": "3.6.3"
  }
 },
 "nbformat": 4,
 "nbformat_minor": 2
}
