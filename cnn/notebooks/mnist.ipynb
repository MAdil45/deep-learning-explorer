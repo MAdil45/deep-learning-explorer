{
 "cells": [
  {
   "cell_type": "markdown",
   "metadata": {},
   "source": [
    "# Convolutional Neural Network for Digit Recognition\n",
    "\n",
    "This notebook trains a Convolutional Neural Network (CNN) for digit (i.e. 0, 1, ..., 9) recognition using the MNIST dataset."
   ]
  },
  {
   "cell_type": "code",
   "execution_count": null,
   "metadata": {},
   "outputs": [],
   "source": [
    "import os\n",
    "import sys\n",
    "import zipfile\n",
    "import random\n",
    "import math\n",
    "import re\n",
    "import time\n",
    "import numpy as np\n",
    "from PIL import Image\n",
    "import matplotlib\n",
    "import matplotlib.pyplot as plt\n",
    "\n",
    "sys.path.insert(0, '../libraries')\n",
    "import cnn.cnn\n",
    "import cnn.config\n",
    "\n",
    "%matplotlib inline\n",
    "%config IPCompleter.greedy=True\n",
    "\n",
    "HOME_DIR = '/home/keras'\n",
    "ROOT_DATA_DIR = os.path.join(HOME_DIR, \"data\")\n",
    "WEIGHTS_DIR = os.path.join(ROOT_DATA_DIR, \"weights\")\n",
    "MODEL_DIR = os.path.join(ROOT_DATA_DIR, \"logs\")"
   ]
  },
  {
   "cell_type": "markdown",
   "metadata": {},
   "source": [
    "# Configuration\n",
    "\n",
    "Configure the model's hyperparameters and training settings."
   ]
  },
  {
   "cell_type": "code",
   "execution_count": null,
   "metadata": {},
   "outputs": [],
   "source": [
    "class MnistConfig(cnn.config.Config):\n",
    "    NAME = \"mnist_cnn\"\n",
    "    EPOCHS = 1\n",
    "    EPOCH_STEPS = 100\n",
    "    CLASSES = 10  # 10 digits\n",
    "    IMAGE_HEIGHT = 28\n",
    "    IMAGE_WIDTH = 28\n",
    "    \n",
    "config = MnistConfig()\n",
    "config.display()"
   ]
  },
  {
   "cell_type": "markdown",
   "metadata": {},
   "source": [
    "# Dataset\n",
    "\n",
    "Load the dataset. Download if required, and transform into required format."
   ]
  },
  {
   "cell_type": "code",
   "execution_count": null,
   "metadata": {},
   "outputs": [],
   "source": [
    "import keras.backend as KB\n",
    "import keras.utils as KU\n",
    "from keras.datasets import mnist\n",
    "\n",
    "(x_train, y_train), (x_validate, y_validate) = mnist.load_data()\n",
    "\n",
    "if KB.image_data_format() == 'channels_first':\n",
    "    x_train = x_train.reshape(x_train.shape[0], 1, config.IMAGE_HEIGHT, config.IMAGE_WIDTH)\n",
    "    x_validate = x_validate.reshape(x_validate.shape[0], 1, config.IMAGE_HEIGHT, config.IMAGE_WIDTH)\n",
    "else:\n",
    "    x_train = x_train.reshape(x_train.shape[0], config.IMAGE_HEIGHT, config.IMAGE_WIDTH, 1)\n",
    "    x_validate = x_validate.reshape(x_validate.shape[0], config.IMAGE_HEIGHT, config.IMAGE_WIDTH, 1)\n",
    "\n",
    "x_train = x_train.astype('float32')\n",
    "x_validate = x_validate.astype('float32')\n",
    "x_train /= 255\n",
    "x_validate /= 255\n",
    "\n",
    "# convert class vectors to binary class matrices\n",
    "y_train = KU.to_categorical(y_train, config.CLASSES)\n",
    "y_validate = KU.to_categorical(y_validate, config.CLASSES)\n",
    "\n",
    "dataset_train = {'inputs': x_train, 'labels': y_train}\n",
    "dataset_validate = {'inputs': x_validate, 'labels': y_validate}"
   ]
  },
  {
   "cell_type": "markdown",
   "metadata": {},
   "source": [
    "# Model\n",
    "\n",
    "Create a model instance. This is also where you would load any pretrained weights."
   ]
  },
  {
   "cell_type": "code",
   "execution_count": null,
   "metadata": {},
   "outputs": [],
   "source": [
    "model = cnn.cnn.CNN(config=config, model_dir=MODEL_DIR)"
   ]
  },
  {
   "cell_type": "markdown",
   "metadata": {},
   "source": [
    "# Train\n",
    "\n",
    "Train the model. If using pretrained weights, first train the head of the model before fine tuning lower sections."
   ]
  },
  {
   "cell_type": "code",
   "execution_count": null,
   "metadata": {},
   "outputs": [],
   "source": [
    "model.train(dataset_train, dataset_validate)"
   ]
  },
  {
   "cell_type": "markdown",
   "metadata": {},
   "source": [
    "# Test\n",
    "\n",
    "Test how the model performs on sample input data. Load weights to test without training during this session. You still have to train at some point though."
   ]
  },
  {
   "cell_type": "code",
   "execution_count": null,
   "metadata": {},
   "outputs": [],
   "source": [
    "weights = cnn.cnn.find_last(config, MODEL_DIR)[1]\n",
    "model.keras_model.load_weights(weights)"
   ]
  },
  {
   "cell_type": "code",
   "execution_count": null,
   "metadata": {},
   "outputs": [],
   "source": [
    "test_index = random.randint(1,10000)\n",
    "test_input = dataset_validate.get('inputs')[test_index, :, :, 0]\n",
    "test_label = dataset_validate.get('labels')[test_index]\n",
    "pil_input = Image.fromarray(np.uint8(test_input*255))\n",
    "plt.imshow(pil_input)\n",
    "\n",
    "prediction = model.predict(pil_input)\n",
    "\n",
    "print(\"label: {}\".format(np.argmax(test_label)))\n",
    "print(\"prediction: {}\".format(prediction))\n"
   ]
  },
  {
   "cell_type": "markdown",
   "metadata": {},
   "source": [
    "# Evaluate\n",
    "\n",
    "Evaluate the performance of the model on the test dataset. "
   ]
  },
  {
   "cell_type": "code",
   "execution_count": null,
   "metadata": {},
   "outputs": [],
   "source": [
    "model.evaluate(dataset_validate)"
   ]
  },
  {
   "cell_type": "code",
   "execution_count": null,
   "metadata": {},
   "outputs": [],
   "source": []
  },
  {
   "cell_type": "code",
   "execution_count": null,
   "metadata": {},
   "outputs": [],
   "source": []
  }
 ],
 "metadata": {
  "kernelspec": {
   "display_name": "Python 3",
   "language": "python",
   "name": "python3"
  },
  "language_info": {
   "codemirror_mode": {
    "name": "ipython",
    "version": 3
   },
   "file_extension": ".py",
   "mimetype": "text/x-python",
   "name": "python",
   "nbconvert_exporter": "python",
   "pygments_lexer": "ipython3",
   "version": "3.6.3"
  }
 },
 "nbformat": 4,
 "nbformat_minor": 2
}
